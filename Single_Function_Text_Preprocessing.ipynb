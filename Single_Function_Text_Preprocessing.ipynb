{
  "nbformat": 4,
  "nbformat_minor": 0,
  "metadata": {
    "colab": {
      "provenance": [],
      "authorship_tag": "ABX9TyNI3QXiq//M22/XpVmtO9oU",
      "include_colab_link": true
    },
    "kernelspec": {
      "name": "python3",
      "display_name": "Python 3"
    },
    "language_info": {
      "name": "python"
    }
  },
  "cells": [
    {
      "cell_type": "markdown",
      "metadata": {
        "id": "view-in-github",
        "colab_type": "text"
      },
      "source": [
        "<a href=\"https://colab.research.google.com/github/ilakshmiteja/Text_Preprocessing/blob/main/Single_Function_Text_Preprocessing.ipynb\" target=\"_parent\"><img src=\"https://colab.research.google.com/assets/colab-badge.svg\" alt=\"Open In Colab\"/></a>"
      ]
    },
    {
      "cell_type": "code",
      "execution_count": 1,
      "metadata": {
        "colab": {
          "base_uri": "https://localhost:8080/"
        },
        "id": "jydpV2MI9cLp",
        "outputId": "965b56cb-f2d7-4082-8fc2-fbf175da2466"
      },
      "outputs": [
        {
          "output_type": "stream",
          "name": "stderr",
          "text": [
            "[nltk_data] Downloading package stopwords to /root/nltk_data...\n",
            "[nltk_data]   Package stopwords is already up-to-date!\n",
            "[nltk_data] Downloading package wordnet to /root/nltk_data...\n",
            "[nltk_data]   Package wordnet is already up-to-date!\n",
            "[nltk_data] Downloading package omw-1.4 to /root/nltk_data...\n",
            "[nltk_data]   Package omw-1.4 is already up-to-date!\n"
          ]
        }
      ],
      "source": [
        "import numpy as np\n",
        "import pandas as pd\n",
        "import regex as re\n",
        "import nltk\n",
        "nltk.download('stopwords')\n",
        "from nltk.corpus import stopwords\n",
        "from nltk.stem import SnowballStemmer\n",
        "nltk.download('wordnet')\n",
        "nltk.download('omw-1.4')\n",
        "from nltk.stem import WordNetLemmatizer\n",
        "snbstemmer = SnowballStemmer('english')\n",
        "lemmat = WordNetLemmatizer()"
      ]
    },
    {
      "cell_type": "code",
      "source": [
        "doc_1 = '''I’m a <b>mother pheasant plucker</b>, I pluck mother pheasants.\n",
        "I’m the most pleasant mother pheasant plucker to ever pluck a mother pheasant.\n",
        "I’m not the pheasant plucker I’m the pheasant plucker’s wife, I’ve been plucking Mother pheasants my whole pheasant plucking life.\n",
        "I’m not the pheasant plucker I’m the pheasant plucker’s mate, I’m only plucking Pheasants ’cause the pheasant plucker’s late.'''\n",
        "\n",
        "doc_2 = '''Peter 1324-3434 Piper picked a peck of pickled peppers.\n",
        "A peck of pickled peppers Peter Piper picked.\n",
        "If Peter Piper picked a peck of pickled peppers?\n",
        "Where’s the peck of pickled peppers Peter Piper picked?'''\n",
        "\n",
        "doc_3 = '''Silly Sally swiftly shooed seven silly sheep.\n",
        "The seven silly sheep Silly Sally shooed\n",
        "Shilly-shallied south.\n",
        "These sheep shouldn’t sleep in a shack;\n",
        "Sheep should sleep in a shed.'''\n",
        "\n",
        "doc_4 = '''All www.google.com I want is a proper cup of coffee,\n",
        "Made in a proper copper coffee pot\n",
        "I may be off my dot\n",
        "But I want a cup of coffee\n",
        "From a proper coffee pot.'''\n",
        "\n",
        "doc_5 = '''How much wood would a woodchuck chuck if a woodchuck could chuck wood?\n",
        "He would chuck, he would, as much as he could, and chuck as much wood,\n",
        "as a woodchuck would if a woodchuck could chuck wood.'''"
      ],
      "metadata": {
        "id": "FuJF8uNp93OL"
      },
      "execution_count": 2,
      "outputs": []
    },
    {
      "cell_type": "code",
      "source": [
        "text_df_original = pd.DataFrame({'docs':[doc_1,doc_2,doc_3,doc_4,doc_5]})"
      ],
      "metadata": {
        "id": "opGem3xu_Qb4"
      },
      "execution_count": 3,
      "outputs": []
    },
    {
      "cell_type": "code",
      "source": [
        "text_df  = text_df_original.copy()"
      ],
      "metadata": {
        "id": "6AN1uPDuABiD"
      },
      "execution_count": 4,
      "outputs": []
    },
    {
      "cell_type": "code",
      "source": [
        "def text_clean(docs,stem_or_lem):\n",
        "  # converting to uniform case - preferrably lower\n",
        "  case_lower = docs.lower()\n",
        "\n",
        "  # removing html tags\n",
        "  html_removed = re.sub(r'<.*?>',' ',case_lower)\n",
        "\n",
        "  # removing urls\n",
        "  urls_removed = re.sub(r'https?://\\S+|www\\.S\\+',' ',html_removed)\n",
        "\n",
        "  # removing newline characters\n",
        "  newline_removed = re.sub(r'\\n',' ',urls_removed)\n",
        "\n",
        "  # removing special characters\n",
        "  special_removed = re.sub(r'[^a-zA-Z]',' ',newline_removed)\n",
        "\n",
        "  # removing stopwords\n",
        "  cleaned_docs = [words for words in special_removed.split() if words not in stopwords.words(\"english\")]\n",
        "\n",
        "  # Applying Stemming or Lemmatization\n",
        "  if stem_or_lem.lower() == 'stem':\n",
        "    final_doc = [snbstemmer.stem(ele) for ele in cleaned_docs]\n",
        "  else:\n",
        "    final_doc = [lemmat.lemmatize(ele) for ele in cleaned_docs]\n",
        "\n",
        "  return ' '.join(final_doc)\n",
        ""
      ],
      "metadata": {
        "id": "C57yD3l0A6VN"
      },
      "execution_count": 5,
      "outputs": []
    },
    {
      "cell_type": "code",
      "source": [
        "text_df['text_stemmer'] = text_df['docs'].apply(text_clean,stem_or_lem = 'stem')"
      ],
      "metadata": {
        "id": "pC46QFq3JZtl"
      },
      "execution_count": 6,
      "outputs": []
    },
    {
      "cell_type": "code",
      "source": [
        "text_df['text_lemmatizer'] = text_df['docs'].apply(text_clean,stem_or_lem = 'lemmatize')"
      ],
      "metadata": {
        "id": "mzD4pwvEJ0g8"
      },
      "execution_count": 7,
      "outputs": []
    },
    {
      "cell_type": "code",
      "source": [
        "text_df"
      ],
      "metadata": {
        "colab": {
          "base_uri": "https://localhost:8080/",
          "height": 206
        },
        "id": "C_xNUBRrKTpV",
        "outputId": "07b8cd03-09ac-40dc-94a4-ea110f45e8f6"
      },
      "execution_count": 8,
      "outputs": [
        {
          "output_type": "execute_result",
          "data": {
            "text/plain": [
              "                                                docs  \\\n",
              "0  I’m a <b>mother pheasant plucker</b>, I pluck ...   \n",
              "1  Peter 1324-3434 Piper picked a peck of pickled...   \n",
              "2  Silly Sally swiftly shooed seven silly sheep.\\...   \n",
              "3  All www.google.com I want is a proper cup of c...   \n",
              "4  How much wood would a woodchuck chuck if a woo...   \n",
              "\n",
              "                                        text_stemmer  \\\n",
              "0  mother pheasant plucker pluck mother pheasant ...   \n",
              "1  peter piper pick peck pickl pepper peck pickl ...   \n",
              "2  silli salli swift shoo seven silli sheep seven...   \n",
              "3  www googl com want proper cup coffe made prope...   \n",
              "4  much wood would woodchuck chuck woodchuck coul...   \n",
              "\n",
              "                                     text_lemmatizer  \n",
              "0  mother pheasant plucker pluck mother pheasant ...  \n",
              "1  peter piper picked peck pickled pepper peck pi...  \n",
              "2  silly sally swiftly shooed seven silly sheep s...  \n",
              "3  www google com want proper cup coffee made pro...  \n",
              "4  much wood would woodchuck chuck woodchuck coul...  "
            ],
            "text/html": [
              "\n",
              "  <div id=\"df-45b89a96-c5e5-4107-82f1-8ee37ded846b\" class=\"colab-df-container\">\n",
              "    <div>\n",
              "<style scoped>\n",
              "    .dataframe tbody tr th:only-of-type {\n",
              "        vertical-align: middle;\n",
              "    }\n",
              "\n",
              "    .dataframe tbody tr th {\n",
              "        vertical-align: top;\n",
              "    }\n",
              "\n",
              "    .dataframe thead th {\n",
              "        text-align: right;\n",
              "    }\n",
              "</style>\n",
              "<table border=\"1\" class=\"dataframe\">\n",
              "  <thead>\n",
              "    <tr style=\"text-align: right;\">\n",
              "      <th></th>\n",
              "      <th>docs</th>\n",
              "      <th>text_stemmer</th>\n",
              "      <th>text_lemmatizer</th>\n",
              "    </tr>\n",
              "  </thead>\n",
              "  <tbody>\n",
              "    <tr>\n",
              "      <th>0</th>\n",
              "      <td>I’m a &lt;b&gt;mother pheasant plucker&lt;/b&gt;, I pluck ...</td>\n",
              "      <td>mother pheasant plucker pluck mother pheasant ...</td>\n",
              "      <td>mother pheasant plucker pluck mother pheasant ...</td>\n",
              "    </tr>\n",
              "    <tr>\n",
              "      <th>1</th>\n",
              "      <td>Peter 1324-3434 Piper picked a peck of pickled...</td>\n",
              "      <td>peter piper pick peck pickl pepper peck pickl ...</td>\n",
              "      <td>peter piper picked peck pickled pepper peck pi...</td>\n",
              "    </tr>\n",
              "    <tr>\n",
              "      <th>2</th>\n",
              "      <td>Silly Sally swiftly shooed seven silly sheep.\\...</td>\n",
              "      <td>silli salli swift shoo seven silli sheep seven...</td>\n",
              "      <td>silly sally swiftly shooed seven silly sheep s...</td>\n",
              "    </tr>\n",
              "    <tr>\n",
              "      <th>3</th>\n",
              "      <td>All www.google.com I want is a proper cup of c...</td>\n",
              "      <td>www googl com want proper cup coffe made prope...</td>\n",
              "      <td>www google com want proper cup coffee made pro...</td>\n",
              "    </tr>\n",
              "    <tr>\n",
              "      <th>4</th>\n",
              "      <td>How much wood would a woodchuck chuck if a woo...</td>\n",
              "      <td>much wood would woodchuck chuck woodchuck coul...</td>\n",
              "      <td>much wood would woodchuck chuck woodchuck coul...</td>\n",
              "    </tr>\n",
              "  </tbody>\n",
              "</table>\n",
              "</div>\n",
              "    <div class=\"colab-df-buttons\">\n",
              "\n",
              "  <div class=\"colab-df-container\">\n",
              "    <button class=\"colab-df-convert\" onclick=\"convertToInteractive('df-45b89a96-c5e5-4107-82f1-8ee37ded846b')\"\n",
              "            title=\"Convert this dataframe to an interactive table.\"\n",
              "            style=\"display:none;\">\n",
              "\n",
              "  <svg xmlns=\"http://www.w3.org/2000/svg\" height=\"24px\" viewBox=\"0 -960 960 960\">\n",
              "    <path d=\"M120-120v-720h720v720H120Zm60-500h600v-160H180v160Zm220 220h160v-160H400v160Zm0 220h160v-160H400v160ZM180-400h160v-160H180v160Zm440 0h160v-160H620v160ZM180-180h160v-160H180v160Zm440 0h160v-160H620v160Z\"/>\n",
              "  </svg>\n",
              "    </button>\n",
              "\n",
              "  <style>\n",
              "    .colab-df-container {\n",
              "      display:flex;\n",
              "      gap: 12px;\n",
              "    }\n",
              "\n",
              "    .colab-df-convert {\n",
              "      background-color: #E8F0FE;\n",
              "      border: none;\n",
              "      border-radius: 50%;\n",
              "      cursor: pointer;\n",
              "      display: none;\n",
              "      fill: #1967D2;\n",
              "      height: 32px;\n",
              "      padding: 0 0 0 0;\n",
              "      width: 32px;\n",
              "    }\n",
              "\n",
              "    .colab-df-convert:hover {\n",
              "      background-color: #E2EBFA;\n",
              "      box-shadow: 0px 1px 2px rgba(60, 64, 67, 0.3), 0px 1px 3px 1px rgba(60, 64, 67, 0.15);\n",
              "      fill: #174EA6;\n",
              "    }\n",
              "\n",
              "    .colab-df-buttons div {\n",
              "      margin-bottom: 4px;\n",
              "    }\n",
              "\n",
              "    [theme=dark] .colab-df-convert {\n",
              "      background-color: #3B4455;\n",
              "      fill: #D2E3FC;\n",
              "    }\n",
              "\n",
              "    [theme=dark] .colab-df-convert:hover {\n",
              "      background-color: #434B5C;\n",
              "      box-shadow: 0px 1px 3px 1px rgba(0, 0, 0, 0.15);\n",
              "      filter: drop-shadow(0px 1px 2px rgba(0, 0, 0, 0.3));\n",
              "      fill: #FFFFFF;\n",
              "    }\n",
              "  </style>\n",
              "\n",
              "    <script>\n",
              "      const buttonEl =\n",
              "        document.querySelector('#df-45b89a96-c5e5-4107-82f1-8ee37ded846b button.colab-df-convert');\n",
              "      buttonEl.style.display =\n",
              "        google.colab.kernel.accessAllowed ? 'block' : 'none';\n",
              "\n",
              "      async function convertToInteractive(key) {\n",
              "        const element = document.querySelector('#df-45b89a96-c5e5-4107-82f1-8ee37ded846b');\n",
              "        const dataTable =\n",
              "          await google.colab.kernel.invokeFunction('convertToInteractive',\n",
              "                                                    [key], {});\n",
              "        if (!dataTable) return;\n",
              "\n",
              "        const docLinkHtml = 'Like what you see? Visit the ' +\n",
              "          '<a target=\"_blank\" href=https://colab.research.google.com/notebooks/data_table.ipynb>data table notebook</a>'\n",
              "          + ' to learn more about interactive tables.';\n",
              "        element.innerHTML = '';\n",
              "        dataTable['output_type'] = 'display_data';\n",
              "        await google.colab.output.renderOutput(dataTable, element);\n",
              "        const docLink = document.createElement('div');\n",
              "        docLink.innerHTML = docLinkHtml;\n",
              "        element.appendChild(docLink);\n",
              "      }\n",
              "    </script>\n",
              "  </div>\n",
              "\n",
              "\n",
              "<div id=\"df-b59541c8-b9f6-426b-8e9e-9bce959bf406\">\n",
              "  <button class=\"colab-df-quickchart\" onclick=\"quickchart('df-b59541c8-b9f6-426b-8e9e-9bce959bf406')\"\n",
              "            title=\"Suggest charts.\"\n",
              "            style=\"display:none;\">\n",
              "\n",
              "<svg xmlns=\"http://www.w3.org/2000/svg\" height=\"24px\"viewBox=\"0 0 24 24\"\n",
              "     width=\"24px\">\n",
              "    <g>\n",
              "        <path d=\"M19 3H5c-1.1 0-2 .9-2 2v14c0 1.1.9 2 2 2h14c1.1 0 2-.9 2-2V5c0-1.1-.9-2-2-2zM9 17H7v-7h2v7zm4 0h-2V7h2v10zm4 0h-2v-4h2v4z\"/>\n",
              "    </g>\n",
              "</svg>\n",
              "  </button>\n",
              "\n",
              "<style>\n",
              "  .colab-df-quickchart {\n",
              "    background-color: #E8F0FE;\n",
              "    border: none;\n",
              "    border-radius: 50%;\n",
              "    cursor: pointer;\n",
              "    display: none;\n",
              "    fill: #1967D2;\n",
              "    height: 32px;\n",
              "    padding: 0 0 0 0;\n",
              "    width: 32px;\n",
              "  }\n",
              "\n",
              "  .colab-df-quickchart:hover {\n",
              "    background-color: #E2EBFA;\n",
              "    box-shadow: 0px 1px 2px rgba(60, 64, 67, 0.3), 0px 1px 3px 1px rgba(60, 64, 67, 0.15);\n",
              "    fill: #174EA6;\n",
              "  }\n",
              "\n",
              "  [theme=dark] .colab-df-quickchart {\n",
              "    background-color: #3B4455;\n",
              "    fill: #D2E3FC;\n",
              "  }\n",
              "\n",
              "  [theme=dark] .colab-df-quickchart:hover {\n",
              "    background-color: #434B5C;\n",
              "    box-shadow: 0px 1px 3px 1px rgba(0, 0, 0, 0.15);\n",
              "    filter: drop-shadow(0px 1px 2px rgba(0, 0, 0, 0.3));\n",
              "    fill: #FFFFFF;\n",
              "  }\n",
              "</style>\n",
              "\n",
              "  <script>\n",
              "    async function quickchart(key) {\n",
              "      const charts = await google.colab.kernel.invokeFunction(\n",
              "          'suggestCharts', [key], {});\n",
              "    }\n",
              "    (() => {\n",
              "      let quickchartButtonEl =\n",
              "        document.querySelector('#df-b59541c8-b9f6-426b-8e9e-9bce959bf406 button');\n",
              "      quickchartButtonEl.style.display =\n",
              "        google.colab.kernel.accessAllowed ? 'block' : 'none';\n",
              "    })();\n",
              "  </script>\n",
              "</div>\n",
              "    </div>\n",
              "  </div>\n"
            ]
          },
          "metadata": {},
          "execution_count": 8
        }
      ]
    },
    {
      "cell_type": "code",
      "source": [],
      "metadata": {
        "id": "FRo54zCiKddN"
      },
      "execution_count": 8,
      "outputs": []
    }
  ]
}